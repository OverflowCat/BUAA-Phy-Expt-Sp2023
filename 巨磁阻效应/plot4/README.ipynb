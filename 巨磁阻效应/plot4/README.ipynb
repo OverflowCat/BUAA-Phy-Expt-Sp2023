{
 "cells": [
  {
   "cell_type": "code",
   "execution_count": 1,
   "metadata": {},
   "outputs": [],
   "source": [
    "# 125.4 mV\n",
    "x1 = [299, 200, 98, 0, -100, -200, -300,\n",
    "      -200, -100, 0, 100, 200, 300]\n",
    "y1 = [131.0, 129.6, 128.2, 126.8, 125.3, 123.8, 122.3,\n",
    "      123.8, 125.2, 126.6, 128.1, 129.5, 131.0]\n",
    "assert len(x1) == len(y1)\n",
    "\n",
    "# 100.1 mV\n",
    "x2 = [299, 200, 98, 0, -100, -201, -300,\n",
    "      -201, -100, 0, 100, 200, 304]\n",
    "y2 = [104.5, 103.1, 101.8, 100.4, 99.0, 97.6, 96.2,\n",
    "      97.6, 99.0, 100.4, 101.9, 103.3, 104.8]\n",
    "assert len(x2) == len(y2)\n",
    "\n",
    "# 50.2 mV\n",
    "x3 = [300, 201, 100, 0, -101, -204, -300,\n",
    "      -200, -100, 0, 100, 203, 300]\n",
    "y3 = [53.9, 52.7, 51.5, 50.3, 49.1, 47.9, 46.7,\n",
    "      47.9, 49.1, 50.3, 51.6, 52.8, 54.0]\n",
    "assert len(x3) == len(y3)\n",
    "\n",
    "# 25.0 mV\n",
    "x4 = [300, 201, 100, 0, -101, -200, -300,\n",
    "      -197, -101, 0, 100, 200, 300]\n",
    "y4 = [28.3, 27.2, 26.1, 25.0, 24.0, 22.9, 21.8,\n",
    "      22.9, 23.9, 25.0, 26.1, 27.2, 28.3]\n",
    "assert len(x4) == len(y4)\n",
    "\n",
    "assert len(x1) == len(x2) == len(x3) == len(x4) == 7 * 2 - 1"
   ]
  }
 ],
 "metadata": {
  "kernelspec": {
   "display_name": "Python 3",
   "language": "python",
   "name": "python3"
  },
  "language_info": {
   "codemirror_mode": {
    "name": "ipython",
    "version": 3
   },
   "file_extension": ".py",
   "mimetype": "text/x-python",
   "name": "python",
   "nbconvert_exporter": "python",
   "pygments_lexer": "ipython3",
   "version": "3.11.2"
  },
  "orig_nbformat": 4
 },
 "nbformat": 4,
 "nbformat_minor": 2
}
