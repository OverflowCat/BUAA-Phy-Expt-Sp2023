{
 "cells": [
  {
   "cell_type": "code",
   "execution_count": 1,
   "metadata": {},
   "outputs": [
    {
     "data": {
      "image/png": "[encoded data removed]",
      "text/plain": [
       "<Figure size 640x480 with 1 Axes>"
      ]
     },
     "metadata": {},
     "output_type": "display_data"
    }
   ],
   "source": [
    "import csv\n",
    "import matplotlib.pyplot as plt\n",
    "\n",
    "# Open the CSV file and read the data\n",
    "with open('data.csv', 'r') as csvfile:\n",
    "    reader = csv.DictReader(csvfile)\n",
    "    data = {k: [] for k in reader.fieldnames}\n",
    "    for row in reader:\n",
    "        for k in reader.fieldnames:\n",
    "            data[k].append(float(row[k]))\n",
    "\n",
    "fig, ax = plt.subplots()\n",
    "\n",
    "ax.scatter(data['theta'], data['u'], marker='.', s=2, color=\"#666\")\n",
    "\n",
    "# ax.set_title('Data Plot')\n",
    "# ax.set_xlabel('Theta')\n",
    "# ax.set_ylabel('U')\n",
    "ax.tick_params(axis='both', colors='#88888822')\n",
    "ax.spines['bottom'].set_color('#aaaaaa66')\n",
    "ax.spines['left'].set_color('#aaaaaa66')\n",
    "ax.spines['top'].set_color('#ffffff00')\n",
    "ax.spines['right'].set_color('#ffffff00')\n",
    "\n",
    "plt.savefig(f'plot5.svg', format='svg', transparent=True)\n",
    "plt.show()\n"
   ]
  },
  {
   "cell_type": "code",
   "execution_count": null,
   "metadata": {},
   "outputs": [],
   "source": []
  }
 ],
 "metadata": {
  "kernelspec": {
   "display_name": "Python 3",
   "language": "python",
   "name": "python3"
  },
  "language_info": {
   "codemirror_mode": {
    "name": "ipython",
    "version": 3
   },
   "file_extension": ".py",
   "mimetype": "text/x-python",
   "name": "python",
   "nbconvert_exporter": "python",
   "pygments_lexer": "ipython3",
   "version": "3.11.2"
  },
  "orig_nbformat": 4
 },
 "nbformat": 4,
 "nbformat_minor": 2
}
