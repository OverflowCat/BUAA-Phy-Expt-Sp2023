{
 "cells": [
  {
   "cell_type": "code",
   "execution_count": 1,
   "metadata": {},
   "outputs": [],
   "source": [
    "d_b = [128.92 , 128.9  , 128.88 , 128.96 , 128.9 ]\n"
   ]
  },
  {
   "cell_type": "code",
   "execution_count": 2,
   "metadata": {},
   "outputs": [],
   "source": [
    "def 求A类不确定度(arr):\n",
    "    n = len(arr)\n",
    "    avg = sum(arr) / n\n",
    "    print(\"平均值为：\",avg)\n",
    "    res = sum((x-avg)**2 for x in arr)/(n*(n-1))\n",
    "    return res**0.5"
   ]
  },
  {
   "cell_type": "code",
   "execution_count": 10,
   "metadata": {},
   "outputs": [
    {
     "name": "stdout",
     "output_type": "stream",
     "text": [
      "平均值为： 130.088\n"
     ]
    },
    {
     "data": {
      "text/plain": [
       "0.03555277766926152"
      ]
     },
     "execution_count": 10,
     "metadata": {},
     "output_type": "execute_result"
    }
   ],
   "source": [
    "求A类不确定度([130.22  , 130.10  , 130.06  , 130.02  , 130.04 ])"
   ]
  },
  {
   "cell_type": "code",
   "execution_count": 16,
   "metadata": {},
   "outputs": [
    {
     "data": {
      "text/plain": [
       "0.027190684679208578"
      ]
     },
     "execution_count": 16,
     "metadata": {},
     "output_type": "execute_result"
    }
   ],
   "source": [
    "( 0.026570660511**2+(0.01/(3**0.5))**2)**0.5"
   ]
  },
  {
   "cell_type": "code",
   "execution_count": 33,
   "metadata": {},
   "outputs": [
    {
     "data": {
      "text/plain": [
       "0.0003407773025403358"
      ]
     },
     "execution_count": 33,
     "metadata": {},
     "output_type": "execute_result"
    }
   ],
   "source": [
    "m_p = 1133.336 # g\n",
    "d_p = 130.088\n",
    "d_b = 128.912\n",
    "h_p = 9.576\n",
    "h_b = 8.228\n",
    "\n",
    "u_a_d_B = 0.013564659966  # mm\n",
    "u_d_B = 0.017813848  # mm\n",
    "u_a_h_B = 0.02059126  # mm\n",
    "u_h_B = 0.0236079054  # mm\n",
    "u_a_m_P = 0.026570660511  # g\n",
    "u_m_P = 0.028013008  # g\n",
    "u_a_d_P = 0.03555277766926  # mm\n",
    "u_d_P = 0.037380920387  # mm\n",
    "u_a_h_P = 0.017204650534  # mm\n",
    "u_h_P = 0.018907508  # mm\n",
    "\n",
    "# devied all by 1000\n",
    "m_p /= 1000\n",
    "d_p /= 1000\n",
    "d_b /= 1000\n",
    "h_p /= 1000\n",
    "\n",
    "u_a_d_B /= 1000\n",
    "u_d_B /= 1000\n",
    "u_a_h_B /= 1000\n",
    "u_h_B /= 1000\n",
    "u_a_m_P /= 1000\n",
    "u_m_P /= 1000\n",
    "u_a_d_P /= 1000\n",
    "u_d_P /= 1000\n",
    "u_a_h_P /= 1000\n",
    "u_h_P /= 1000\n",
    "\n",
    "u_m_p_slash_u_m_p = u_m_P / m_p\n",
    "k1 = 1/(d_p+4*h_p) - 1/(d_p+2*h_p)\n",
    "k2 = 4/(d_p+4*h_p) - 2/(d_p+2*h_p)\n",
    "item_1 = k1 * u_d_P\n",
    "item_2 = k2 * u_h_P\n",
    "u_h_b_slash_h_b = u_h_B / h_b\n",
    "last_item = 2 * u_d_B / d_b\n",
    "\n",
    "items = [u_m_p_slash_u_m_p, item_1, item_2, u_h_b_slash_h_b, last_item]\n",
    "u_k_slash_k = sum(x**2 for x in items)**0.5\n",
    "u_k_slash_k"
   ]
  },
  {
   "cell_type": "code",
   "execution_count": 35,
   "metadata": {},
   "outputs": [
    {
     "data": {
      "text/plain": [
       "1.1831736762899811e-05"
      ]
     },
     "execution_count": 35,
     "metadata": {},
     "output_type": "execute_result"
    }
   ],
   "source": [
    "from math import pi\n",
    "k = 1.133336*0.389*1000*(20.57/455.33)*(130.088+4*9.576)/(130.088+2*9.576)*(8.228*0.001)/(74.9-48.6)*2/(pi*128.912*0.001)\n",
    "u_k = k * u_k_slash_k\n",
    "u_k"
   ]
  },
  {
   "cell_type": "code",
   "execution_count": null,
   "metadata": {},
   "outputs": [],
   "source": []
  }
 ],
 "metadata": {
  "kernelspec": {
   "display_name": "Python 3",
   "language": "python",
   "name": "python3"
  },
  "language_info": {
   "codemirror_mode": {
    "name": "ipython",
    "version": 3
   },
   "file_extension": ".py",
   "mimetype": "text/x-python",
   "name": "python",
   "nbconvert_exporter": "python",
   "pygments_lexer": "ipython3",
   "version": "3.11.4"
  },
  "orig_nbformat": 4
 },
 "nbformat": 4,
 "nbformat_minor": 2
}
