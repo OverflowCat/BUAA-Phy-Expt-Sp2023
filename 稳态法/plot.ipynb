{
 "cells": [
  {
   "cell_type": "code",
   "execution_count": null,
   "metadata": {},
   "outputs": [],
   "source": [
    "import csv\n",
    "import matplotlib.pyplot as plt\n",
    "\n",
    "data = {}\n",
    "# Open the CSV file and read the data\n",
    "with open('data.csv', 'r') as csvfile:\n",
    "    reader = csv.DictReader(csvfile)\n",
    "    data = {k: [] for k in reader.fieldnames}\n",
    "    for row in reader:\n",
    "        for k in reader.fieldnames:\n",
    "            data[k].append(str(row[k]))\n",
    "data\n"
   ]
  },
  {
   "cell_type": "code",
   "execution_count": 2,
   "metadata": {},
   "outputs": [],
   "source": [
    "def time_to_sec(time):\n",
    "    # 5.15 means 5:15. Convert it to seconds -> 5 * 60 + 15 = 315\n",
    "    min, sec = time.split('.')\n",
    "    return int(min) * 60 + int(sec)"
   ]
  },
  {
   "cell_type": "code",
   "execution_count": 3,
   "metadata": {},
   "outputs": [
    {
     "name": "stdout",
     "output_type": "stream",
     "text": [
      "{'time': [0, 15, 30, 45, 60, 75, 90, 105, 120, 135, 150, 165, 180, 195, 210, 225, 240, 255, 270, 285, 300, 315, 330, 345, 360, 375, 390, 405, 420, 435, 450, 465, 480, 495], 'temp': [63.6, 62.6, 61.5, 60.5, 59.5, 58.5, 57.7, 56.8, 55.9, 55.0, 54.3, 53.5, 52.7, 51.9, 51.1, 50.5, 49.7, 49.1, 48.4, 47.6, 47.1, 46.4, 45.8, 45.2, 44.6, 44.1, 43.5, 43.0, 42.3, 41.9, 41.4, 40.9, 40.5, 40.0]}\n"
     ]
    }
   ],
   "source": [
    "for i in range(len(data['time'])):\n",
    "    data['time'][i] = time_to_sec(data['time'][i])\n",
    "\n",
    "for i in range(len(data['temp'])):\n",
    "    data['temp'][i] = float(data['temp'][i])\n",
    "\n",
    "print(data)"
   ]
  },
  {
   "cell_type": "code",
   "execution_count": 10,
   "metadata": {},
   "outputs": [
    {
     "data": {
      "image/png": "[encoded data removed]",
      "text/plain": [
       "<Figure size 640x480 with 1 Axes>"
      ]
     },
     "metadata": {},
     "output_type": "display_data"
    }
   ],
   "source": [
    "fig, ax = plt.subplots()\n",
    "\n",
    "ax.scatter(data['time'], data['temp'], marker='.', s=2, color=\"#666\")\n",
    "\n",
    "# ax.set_title('Data Plot')\n",
    "# ax.set_xlabel('Theta')\n",
    "# ax.set_ylabel('U')\n",
    "ax.tick_params(axis='both', colors='#88888822')\n",
    "ax.spines['bottom'].set_color('#aaaaaa66')\n",
    "ax.spines['left'].set_color('#aaaaaa66')\n",
    "ax.spines['top'].set_color('#ffffff00')\n",
    "ax.spines['right'].set_color('#ffffff00')\n",
    "\n",
    "plt.savefig(f'plot.svg', format='svg', transparent=True)\n",
    "plt.show()\n"
   ]
  },
  {
   "cell_type": "code",
   "execution_count": null,
   "metadata": {},
   "outputs": [],
   "source": []
  }
 ],
 "metadata": {
  "kernelspec": {
   "display_name": "Python 3",
   "language": "python",
   "name": "python3"
  },
  "language_info": {
   "codemirror_mode": {
    "name": "ipython",
    "version": 3
   },
   "file_extension": ".py",
   "mimetype": "text/x-python",
   "name": "python",
   "nbconvert_exporter": "python",
   "pygments_lexer": "ipython3",
   "version": "3.11.3"
  },
  "orig_nbformat": 4,
  "vscode": {
   "interpreter": {
    "hash": "2e20ac568f261017a186351f62cdd661e221272026c30e894c34be5cab1a3d6c"
   }
  }
 },
 "nbformat": 4,
 "nbformat_minor": 2
}
